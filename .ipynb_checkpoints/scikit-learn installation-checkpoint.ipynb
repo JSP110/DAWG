{
 "cells": [
  {
   "cell_type": "markdown",
   "id": "4d98d8b0",
   "metadata": {},
   "source": [
    "To Intall scikit-learn in Anaconda/miniconda\n",
    "remove the \"#\" below to install"
   ]
  },
  {
   "cell_type": "code",
   "execution_count": null,
   "id": "5a489b10",
   "metadata": {},
   "outputs": [],
   "source": [
    "# conda install -c conda-forge scikit-learn"
   ]
  },
  {
   "cell_type": "markdown",
   "id": "43808358",
   "metadata": {},
   "source": [
    "to see which scikit-learn version is installed"
   ]
  },
  {
   "cell_type": "code",
   "execution_count": null,
   "id": "3be31e2f",
   "metadata": {},
   "outputs": [],
   "source": [
    "conda list scikit-learn"
   ]
  },
  {
   "cell_type": "markdown",
   "id": "b07fa875",
   "metadata": {},
   "source": [
    "to see all packages installed in the active conda environment"
   ]
  },
  {
   "cell_type": "code",
   "execution_count": null,
   "id": "53f39339",
   "metadata": {},
   "outputs": [],
   "source": [
    "conda list"
   ]
  }
 ],
 "metadata": {
  "kernelspec": {
   "display_name": "Python 3",
   "language": "python",
   "name": "python3"
  },
  "language_info": {
   "codemirror_mode": {
    "name": "ipython",
    "version": 3
   },
   "file_extension": ".py",
   "mimetype": "text/x-python",
   "name": "python",
   "nbconvert_exporter": "python",
   "pygments_lexer": "ipython3",
   "version": "3.9.5"
  }
 },
 "nbformat": 4,
 "nbformat_minor": 5
}
