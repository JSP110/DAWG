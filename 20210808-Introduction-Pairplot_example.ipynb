{
 "cells": [
  {
   "cell_type": "markdown",
   "id": "1e1bb128",
   "metadata": {},
   "source": [
    "# Seaborn's Pairplot"
   ]
  },
  {
   "cell_type": "markdown",
   "id": "3a43a7c6",
   "metadata": {},
   "source": [
    "## Install Seaborn package using conda (skip if already installed)\n",
    "\n",
    "In the anaconda environment:\n",
    "\n",
    "```conda install seaborn```"
   ]
  },
  {
   "cell_type": "markdown",
   "id": "069353c5",
   "metadata": {},
   "source": [
    "## Example 1\n",
    "This code is contributed by Deepanshu Rustagi."
   ]
  },
  {
   "cell_type": "code",
   "execution_count": null,
   "id": "bc870884",
   "metadata": {
    "scrolled": true
   },
   "outputs": [],
   "source": [
    "# importing packages\n",
    "import seaborn"
   ]
  },
  {
   "cell_type": "code",
   "execution_count": null,
   "id": "753549e1",
   "metadata": {},
   "outputs": [],
   "source": [
    "import matplotlib.pyplot as plt"
   ]
  },
  {
   "cell_type": "code",
   "execution_count": null,
   "id": "fa52e1fd",
   "metadata": {},
   "outputs": [],
   "source": [
    "############# Main Section ############\n",
    "# loading dataset using seaborn\n",
    "df = seaborn.load_dataset('tips')"
   ]
  },
  {
   "cell_type": "markdown",
   "id": "6b758cba",
   "metadata": {},
   "source": [
    "seaborn.load_dataset explained:\n",
    "\n",
    "seaborn.load_dataset(name, cache=True, data_home=None, \\**kws)\n",
    "Load an example dataset from the online repository (requires internet).\n",
    "\n",
    "This function provides quick access to a small number of example datasets that are useful for documenting seaborn or generating reproducible examples for bug reports. It is not necessary for normal usage.\n",
    "\n",
    "Note that some of the datasets have a small amount of preprocessing applied to define a proper ordering for categorical variables.\n",
    "\n",
    "Use get_dataset_names() to see a list of available datasets.\n",
    "\n",
    "https://seaborn.pydata.org/generated/seaborn.load_dataset.html\n",
    "\n",
    "raw data:\n",
    "https://github.com/mwaskom/seaborn-data"
   ]
  },
  {
   "cell_type": "code",
   "execution_count": null,
   "id": "bb9f9350",
   "metadata": {},
   "outputs": [],
   "source": [
    "# pairplot with hue sex\n",
    "seaborn.pairplot(df, hue ='sex')"
   ]
  },
  {
   "cell_type": "code",
   "execution_count": null,
   "id": "032f01cc",
   "metadata": {},
   "outputs": [],
   "source": [
    "# to show\n",
    "plt.show()"
   ]
  },
  {
   "cell_type": "markdown",
   "id": "7c128c6d",
   "metadata": {},
   "source": [
    "## Example 2\n",
    "This code is contributed by Deepanshu Rustagi."
   ]
  },
  {
   "cell_type": "code",
   "execution_count": null,
   "id": "60bc6187",
   "metadata": {},
   "outputs": [],
   "source": [
    "# importing packages\n",
    "import seaborn"
   ]
  },
  {
   "cell_type": "code",
   "execution_count": null,
   "id": "ab2a6da4",
   "metadata": {},
   "outputs": [],
   "source": [
    "import matplotlib.pyplot as plt"
   ]
  },
  {
   "cell_type": "markdown",
   "id": "f5382f2f",
   "metadata": {},
   "source": [
    "Tip: df stands for dataframe, which you will come across frequently when working on data using Python."
   ]
  },
  {
   "cell_type": "code",
   "execution_count": null,
   "id": "a230137c",
   "metadata": {},
   "outputs": [],
   "source": [
    "# loading dataset using seaborn\n",
    "df2 = seaborn.load_dataset('tips')"
   ]
  },
  {
   "cell_type": "code",
   "execution_count": null,
   "id": "1cec587a",
   "metadata": {},
   "outputs": [],
   "source": [
    "# pairplot with hue day\n",
    "seaborn.pairplot(df2, hue ='day')"
   ]
  },
  {
   "cell_type": "markdown",
   "id": "200523a6",
   "metadata": {},
   "source": [
    "What parameters can hue takes?\n",
    "Variable in “data“ to map plot aspects to different colors.\n",
    "Have a look at more details of this function here: https://seaborn.pydata.org/generated/seaborn.pairplot.html"
   ]
  },
  {
   "cell_type": "code",
   "execution_count": null,
   "id": "9d04b936",
   "metadata": {},
   "outputs": [],
   "source": [
    "# to show\n",
    "plt.show()"
   ]
  },
  {
   "cell_type": "markdown",
   "id": "cfef87f0",
   "metadata": {},
   "source": [
    "## Let's experiment with other dataset"
   ]
  },
  {
   "cell_type": "code",
   "execution_count": null,
   "id": "9ea21ad3",
   "metadata": {},
   "outputs": [],
   "source": [
    "seaborn.get_dataset_names()"
   ]
  },
  {
   "cell_type": "markdown",
   "id": "70f3628b",
   "metadata": {},
   "source": [
    "Select any example dataset above and plot the graph again.\n",
    "example using Penguins dataset below."
   ]
  },
  {
   "cell_type": "code",
   "execution_count": null,
   "id": "1c7a3521",
   "metadata": {},
   "outputs": [],
   "source": [
    "import seaborn\n",
    "import matplotlib.pyplot as plt\n",
    "  \n",
    "df_3 = seaborn.load_dataset('penguins')\n",
    "seaborn.pairplot(df_3, hue='species')\n",
    "# to show\n",
    "plt.show()"
   ]
  },
  {
   "cell_type": "markdown",
   "id": "e153207a",
   "metadata": {},
   "source": [
    "To see more of this functions, check out this documentation: https://seaborn.pydata.org/generated/seaborn.pairplot.html"
   ]
  }
 ],
 "metadata": {
  "kernelspec": {
   "display_name": "Python 3",
   "language": "python",
   "name": "python3"
  },
  "language_info": {
   "codemirror_mode": {
    "name": "ipython",
    "version": 3
   },
   "file_extension": ".py",
   "mimetype": "text/x-python",
   "name": "python",
   "nbconvert_exporter": "python",
   "pygments_lexer": "ipython3",
   "version": "3.9.5"
  }
 },
 "nbformat": 4,
 "nbformat_minor": 5
}
